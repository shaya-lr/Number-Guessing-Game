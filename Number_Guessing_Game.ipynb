{
  "nbformat": 4,
  "nbformat_minor": 0,
  "metadata": {
    "colab": {
      "provenance": [],
      "include_colab_link": true
    },
    "kernelspec": {
      "name": "python3",
      "display_name": "Python 3"
    },
    "language_info": {
      "name": "python"
    }
  },
  "cells": [
    {
      "cell_type": "markdown",
      "metadata": {
        "id": "view-in-github",
        "colab_type": "text"
      },
      "source": [
        "<a href=\"https://colab.research.google.com/github/shaya-lr/game/blob/main/Number_Guessing_Game.ipynb\" target=\"_parent\"><img src=\"https://colab.research.google.com/assets/colab-badge.svg\" alt=\"Open In Colab\"/></a>"
      ]
    },
    {
      "cell_type": "markdown",
      "source": [
        "# Creating A Guessing Game In Python"
      ],
      "metadata": {
        "id": "8ftNEwineqdm"
      }
    },
    {
      "cell_type": "markdown",
      "source": [
        "## Table of Contents\n",
        "1. Getting Started\n",
        "2. The Game Logic\n",
        "3. Creating Guessing Game with Python\n",
        "4. Guessing Game Program In Python\n",
        "5. How the Game Works\n",
        "6. Conclusion\n",
        "\n",
        "https://www.mathsisfun.com/games/guess_number.html\n",
        "\n"
      ],
      "metadata": {
        "id": "MF-Gt-RKeuBD"
      }
    },
    {
      "cell_type": "markdown",
      "source": [
        "## Getting Started\n",
        "\n",
        "> A guessing game is a classic and fun way to learn basics of python for programmers in begining. We will walk you through the process of creating a simple guessing game using Python. This game will randomly generate a number, and the user will have to guess the number within a certain range.\n",
        "\n",
        "\n",
        "> This is going to be a simple guessing game where the computer will generate a random number between 1 to 100, and the user has to guess it in 5 or 10 attempts.\n",
        "\n",
        "> Based on the user's guess computer will give various hints if the number is high or low. When the user guess matches the number computer will print the answer along with the number of attempts.\n",
        "\n",
        "\n",
        "> Let's get started!\n"
      ],
      "metadata": {
        "id": "0yi8Hq53fLfe"
      }
    },
    {
      "cell_type": "markdown",
      "source": [
        "## The Game Logic\n",
        "\n",
        "The Number Guessing Game revolves around a few key elements:\n",
        "\n",
        "**1. Generating a Random Number**: The game will randomly generate a number between 1 and 100, which you will have to guess.\n",
        "\n",
        "**2. User Interaction**: You will be asked to enter your name, making the game more personalized. Then, you can ask for level of difficulty like easy or hard where we will assign easy 10 guesses and hard level only 5 guesses.\n",
        "\n",
        "**3. Feedback Loop**: After each guess, the game will provide feedback on whether your guess is too low or too high. This will guide you in making your subsequent guesses.\n",
        "\n",
        "**4. Limited Attempts**: You will have a maximum of 5 attempts to guess the correct number for hard level and 10 for easy level based on level you choosen. Can you solve the mystery within these attempts?\n",
        "\n",
        "**5. Victory or Defeat**: If you successfully guess the number within the given attempts, you will be celebrated for your guessing prowess. If not, the game will reveal the correct number."
      ],
      "metadata": {
        "id": "Nm2sk7lef8qb"
      }
    },
    {
      "cell_type": "code",
      "execution_count": null,
      "metadata": {
        "id": "Oyl_s2Eiel8d"
      },
      "outputs": [],
      "source": [
        "Hello, What's your name?\n",
        "Mohan\n",
        "\n",
        "Hi, Mohan I am Guessing a number between 1 and 100:\n",
        "\n",
        "Choose the difficulty Level, Type 'easy' or 'hard': easy\n",
        "You have 10 attempts to guess the number.\n",
        "Make a guess: 2\n",
        "\n",
        "Your guess is too low\n",
        "Guess again.\n",
        "You have 9 attempts to guess the number.\n",
        "Make a guess: 99\n",
        "\n",
        "Your guess is too high\n",
        "Guess again.\n",
        "You have 8 attempts to guess the number.\n",
        "Make a guess: 50\n",
        "\n",
        "You got it!  The answer was 50.\n",
        "You guessed the number in 3 tries!"
      ]
    },
    {
      "cell_type": "markdown",
      "source": [
        "# Creating Guessing Game with Python\n",
        "\n",
        "To generate a random number we will use a Python module named random to use this module in our program, we first need to import it."
      ],
      "metadata": {
        "id": "67Yc34UujeXf"
      }
    },
    {
      "cell_type": "code",
      "source": [
        "import random"
      ],
      "metadata": {
        "id": "Z9lF2DWPh_eC",
        "colab": {
          "base_uri": "https://localhost:8080/"
        },
        "outputId": "d6740db8-6a55-4e3c-bd4a-65496cd9fc47"
      },
      "execution_count": null,
      "outputs": [
        {
          "output_type": "stream",
          "name": "stdout",
          "text": [
            "28\n"
          ]
        }
      ]
    },
    {
      "cell_type": "markdown",
      "source": [
        "We will use the random module to generate a number between 1 to 100 and store it in a variable named number."
      ],
      "metadata": {
        "id": "2VNQ4SMfj1U1"
      }
    },
    {
      "cell_type": "code",
      "source": [
        "answer = random.randint(1,100)\n",
        "print(answer)\n",
        "\n"
      ],
      "metadata": {
        "id": "rqBpKLB3k5Gd",
        "colab": {
          "base_uri": "https://localhost:8080/"
        },
        "outputId": "c1584d16-ed97-4e5b-a70b-4dd3e483c328"
      },
      "execution_count": null,
      "outputs": [
        {
          "output_type": "stream",
          "name": "stdout",
          "text": [
            "5\n"
          ]
        }
      ]
    },
    {
      "cell_type": "markdown",
      "source": [
        "Now we will prompt the user to enter his name and store it to a variable named playerName."
      ],
      "metadata": {
        "id": "3d6O-7htk58U"
      }
    },
    {
      "cell_type": "code",
      "source": [
        "playerName = input(\"Welcome to the Game, Enter your name: \")\n",
        "print(f\"hi, {playerName} I am guessing a number between 1 to 100\")\n",
        "attempts = 0\n"
      ],
      "metadata": {
        "id": "UpnYNbPYlSF9",
        "colab": {
          "base_uri": "https://localhost:8080/"
        },
        "outputId": "6c43b8de-c647-4f7b-cd15-4fafbf947589"
      },
      "execution_count": null,
      "outputs": [
        {
          "output_type": "stream",
          "name": "stdout",
          "text": [
            "Welcome to the Game, Enter your name: shan\n",
            "hi, shan I am guessing a number between 1 to 100\n"
          ]
        }
      ]
    },
    {
      "cell_type": "markdown",
      "source": [
        "In the next step, we will create a variable named guesses and assign 5 or 10 based on easy or hard level that user choosen. Later we will increase this value on each iteration of the while loop.\n",
        "\n",
        "Finally, before constructing the while loop, we will print a string which includes the playerName."
      ],
      "metadata": {
        "id": "7uq9CYNelXXb"
      }
    },
    {
      "cell_type": "code",
      "source": [
        "diffLevel = input(\"Choose the difficulty Level, Type 'easy' or 'hard': \")\n",
        "\n",
        "if diffLevel == \"easy\":\n",
        "  print(\"You've 10 attempts\")\n",
        "else:\n",
        "  print(\"You've 5 attempts \")"
      ],
      "metadata": {
        "id": "zM9ZS7-el1E5",
        "colab": {
          "base_uri": "https://localhost:8080/"
        },
        "outputId": "c0c5e8f8-1637-4628-8361-69b9536a638c"
      },
      "execution_count": null,
      "outputs": [
        {
          "output_type": "stream",
          "name": "stdout",
          "text": [
            "Choose the difficulty Level, Type 'easy' or 'hard': easy\n",
            "You've 5 attempts\n"
          ]
        }
      ]
    },
    {
      "cell_type": "markdown",
      "source": [
        "Now let's design the while loop."
      ],
      "metadata": {
        "id": "qb-iauN6l12Z"
      }
    },
    {
      "cell_type": "code",
      "source": [
        "while True:\n",
        "    try:\n",
        "        guess = int(input(\"Enter your guess: \"))\n",
        "        attempts += 1\n",
        "\n",
        "        if guess < answer:\n",
        "            print(\"Too low! Try again.\")\n",
        "        elif guess > answer:\n",
        "            print(\"Too high! Try again.\")\n",
        "        else:\n",
        "            print(f\"Congratulations! You've guessed the number {answer} in {attempts} attempts!\")\n",
        "            break\n",
        "    except ValueError:\n",
        "        print(\"Please enter a valid integer.\")"
      ],
      "metadata": {
        "id": "Isol5hdZmIe-",
        "colab": {
          "base_uri": "https://localhost:8080/"
        },
        "outputId": "e2610f73-887b-4130-a7c1-8bf3dffa4cfd"
      },
      "execution_count": null,
      "outputs": [
        {
          "output_type": "stream",
          "name": "stdout",
          "text": [
            "Enter your guess: 5\n",
            "Congratulations! You've guessed the number 5 in 6 attempts!\n"
          ]
        }
      ]
    },
    {
      "cell_type": "markdown",
      "source": [
        "In the first line, we are defining the controlling expression of the while loop. Our game will give user 5 or 10 attempts to guess the number, hence less than guesses because we have already assigned the number_of_guesses variable to 0.\n",
        "\n",
        "Within the loop, we are taking the input from the user and storing it in the guess variable. However, the user input we are getting from the user is a string object and to perform mathematical operations on it we first need to convert it to an integer which can be done by the Python's inbuilt int() method.\n",
        "\n",
        "In the next line, we are incrementing the value of number_of_guesses variable by 1.\n",
        "\n",
        "Below it, we have 3 conditional statements.\n",
        "\n",
        "In the first, if statement we are comparing if the guess is less than the generated number if this statement evaluates to true, we print the corresponding Guess.\n",
        "\n",
        "Similarly, we are checking if the guess is greater than the generated number.\n",
        "The final if statement has the break keyword, which will terminate the loop entirely,\n",
        "So when the guess is equal to the generated number loop gets terminated."
      ],
      "metadata": {
        "id": "U2T6j8y08Hzq"
      }
    },
    {
      "cell_type": "code",
      "source": [
        "\n",
        "if guess == answer:\n",
        "   print(\"yay, you won the game\")\n",
        "else:\n",
        "  print(\"you've reached your maximum attempts\")\n",
        "\n",
        "\n"
      ],
      "metadata": {
        "id": "8GNG_2eT8yq8",
        "colab": {
          "base_uri": "https://localhost:8080/"
        },
        "outputId": "99f0c0e8-9968-460f-b139-856aca80cacb"
      },
      "execution_count": null,
      "outputs": [
        {
          "output_type": "stream",
          "name": "stdout",
          "text": [
            "yay, you won the game\n"
          ]
        }
      ]
    },
    {
      "cell_type": "markdown",
      "source": [
        "Here we are first verifying if the user has guessed the number or not. if they did, then we will print a message for them along with the number of tries.\n",
        "\n",
        "\n",
        "If the player couldn't guess the number at the end we will print the number along with a message."
      ],
      "metadata": {
        "id": "mpWgHjN99OP1"
      }
    },
    {
      "cell_type": "markdown",
      "source": [
        "# Guessing Game Program In Python\n",
        "If you have been following us, then this is how your program should look like:"
      ],
      "metadata": {
        "id": "64hd3n0c9oG6"
      }
    },
    {
      "cell_type": "code",
      "source": [
        "#Join All Blocks to make our code works\n",
        "import random\n",
        "\n",
        "answer = random.randint(1,100)\n",
        "print(answer)\n",
        "\n",
        "playerName = input(\"Welcome to the Game, Enter your name: \")\n",
        "print(f\"hi, {playerName} I am guessing a number between 1 to 100\")\n",
        "attempts = 0\n",
        "\n",
        "diffLevel = input(\"Choose the difficulty Level, Type 'easy' or 'hard': \")\n",
        "\n",
        "if diffLevel == \"easy\":\n",
        "  print(\"You've 10 attempts\")\n",
        "else:\n",
        "  print(\"You've 5 attempts \")\n",
        "\n",
        "while True:\n",
        "    try:\n",
        "        guess = int(input(\"Enter your guess: \"))\n",
        "        attempts += 1\n",
        "\n",
        "        if guess < answer:\n",
        "            print(\"Too low! Try again.\")\n",
        "        elif guess > answer:\n",
        "            print(\"Too high! Try again.\")\n",
        "        else:\n",
        "            print(f\"Congratulations! You've guessed the number {answer} in {attempts} attempts!\")\n",
        "            break\n",
        "    except ValueError:\n",
        "        print(\"Please enter a valid integer.\")\n",
        "\n",
        "if guess == answer:\n",
        "   print(\"yay, you won the game\")\n",
        "else:\n",
        "  print(\"you've reached your maximum attempts\")\n"
      ],
      "metadata": {
        "id": "Ddv8OBRg9O-o",
        "colab": {
          "base_uri": "https://localhost:8080/"
        },
        "outputId": "15d24ac9-43ca-4ce8-8310-89ddadf3a3ed"
      },
      "execution_count": null,
      "outputs": [
        {
          "output_type": "stream",
          "name": "stdout",
          "text": [
            "19\n",
            "Welcome to the Game, Enter your name: rangu\n",
            "hi, rangu I am guessing a number between 1 to 100\n",
            "Choose the difficulty Level, Type 'easy' or 'hard': easy\n",
            "You've 10 attempts\n",
            "Enter your guess: 3\n",
            "Too low! Try again.\n",
            "Enter your guess: 9\n",
            "Too low! Try again.\n",
            "Enter your guess: 99\n",
            "Too high! Try again.\n",
            "Enter your guess: 77\n",
            "Too high! Try again.\n",
            "Enter your guess: 44\n",
            "Too high! Try again.\n",
            "Enter your guess: 21\n",
            "Too high! Try again.\n",
            "Enter your guess: 11\n",
            "Too low! Try again.\n",
            "Enter your guess: 15\n",
            "Too low! Try again.\n",
            "Enter your guess: 13\n",
            "Too low! Try again.\n",
            "Enter your guess: 14\n",
            "Too low! Try again.\n",
            "Enter your guess: 19\n",
            "Congratulations! You've guessed the number 19 in 11 attempts!\n",
            "yay, you won the game\n"
          ]
        }
      ]
    },
    {
      "cell_type": "markdown",
      "source": [
        "Now let's run our game!\n",
        "\n",
        "Great Job"
      ],
      "metadata": {
        "id": "f8UsVx15_bS8"
      }
    }
  ]
}